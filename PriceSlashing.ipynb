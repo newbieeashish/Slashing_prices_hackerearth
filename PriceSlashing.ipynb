{
 "cells": [
  {
   "cell_type": "code",
   "execution_count": 106,
   "metadata": {},
   "outputs": [],
   "source": [
    "import numpy as np\n",
    "import pandas as pd\n",
    "import matplotlib.pyplot as plt"
   ]
  },
  {
   "cell_type": "code",
   "execution_count": 107,
   "metadata": {},
   "outputs": [],
   "source": [
    "train_data = pd.read_csv('Train.csv')\n",
    "test_data = pd.read_csv('Test.csv')\n"
   ]
  },
  {
   "cell_type": "code",
   "execution_count": 3,
   "metadata": {},
   "outputs": [
    {
     "data": {
      "text/html": [
       "<div>\n",
       "<style scoped>\n",
       "    .dataframe tbody tr th:only-of-type {\n",
       "        vertical-align: middle;\n",
       "    }\n",
       "\n",
       "    .dataframe tbody tr th {\n",
       "        vertical-align: top;\n",
       "    }\n",
       "\n",
       "    .dataframe thead th {\n",
       "        text-align: right;\n",
       "    }\n",
       "</style>\n",
       "<table border=\"1\" class=\"dataframe\">\n",
       "  <thead>\n",
       "    <tr style=\"text-align: right;\">\n",
       "      <th></th>\n",
       "      <th>Item_Id</th>\n",
       "      <th>Date</th>\n",
       "      <th>State_of_Country</th>\n",
       "      <th>Market_Category</th>\n",
       "      <th>Product_Category</th>\n",
       "      <th>Grade</th>\n",
       "      <th>Demand</th>\n",
       "      <th>Low_Cap_Price</th>\n",
       "      <th>High_Cap_Price</th>\n",
       "    </tr>\n",
       "  </thead>\n",
       "  <tbody>\n",
       "    <tr>\n",
       "      <th>0</th>\n",
       "      <td>IT_1</td>\n",
       "      <td>2007-07-05</td>\n",
       "      <td>0</td>\n",
       "      <td>0</td>\n",
       "      <td>0</td>\n",
       "      <td>0</td>\n",
       "      <td>0.5</td>\n",
       "      <td>2785</td>\n",
       "      <td>4240</td>\n",
       "    </tr>\n",
       "    <tr>\n",
       "      <th>1</th>\n",
       "      <td>IT_2</td>\n",
       "      <td>2007-07-05</td>\n",
       "      <td>0</td>\n",
       "      <td>1</td>\n",
       "      <td>0</td>\n",
       "      <td>0</td>\n",
       "      <td>0.7</td>\n",
       "      <td>3574</td>\n",
       "      <td>4756</td>\n",
       "    </tr>\n",
       "    <tr>\n",
       "      <th>2</th>\n",
       "      <td>IT_3</td>\n",
       "      <td>2007-07-05</td>\n",
       "      <td>0</td>\n",
       "      <td>103</td>\n",
       "      <td>0</td>\n",
       "      <td>1</td>\n",
       "      <td>1.6</td>\n",
       "      <td>5978</td>\n",
       "      <td>9669</td>\n",
       "    </tr>\n",
       "    <tr>\n",
       "      <th>3</th>\n",
       "      <td>IT_4</td>\n",
       "      <td>2007-07-05</td>\n",
       "      <td>0</td>\n",
       "      <td>103</td>\n",
       "      <td>0</td>\n",
       "      <td>0</td>\n",
       "      <td>0.0</td>\n",
       "      <td>5681</td>\n",
       "      <td>8313</td>\n",
       "    </tr>\n",
       "    <tr>\n",
       "      <th>4</th>\n",
       "      <td>IT_5</td>\n",
       "      <td>2007-07-05</td>\n",
       "      <td>0</td>\n",
       "      <td>103</td>\n",
       "      <td>0</td>\n",
       "      <td>2</td>\n",
       "      <td>0.0</td>\n",
       "      <td>4924</td>\n",
       "      <td>7257</td>\n",
       "    </tr>\n",
       "  </tbody>\n",
       "</table>\n",
       "</div>"
      ],
      "text/plain": [
       "  Item_Id        Date  State_of_Country  Market_Category  Product_Category  \\\n",
       "0    IT_1  2007-07-05                 0                0                 0   \n",
       "1    IT_2  2007-07-05                 0                1                 0   \n",
       "2    IT_3  2007-07-05                 0              103                 0   \n",
       "3    IT_4  2007-07-05                 0              103                 0   \n",
       "4    IT_5  2007-07-05                 0              103                 0   \n",
       "\n",
       "   Grade  Demand  Low_Cap_Price  High_Cap_Price  \n",
       "0      0     0.5           2785            4240  \n",
       "1      0     0.7           3574            4756  \n",
       "2      1     1.6           5978            9669  \n",
       "3      0     0.0           5681            8313  \n",
       "4      2     0.0           4924            7257  "
      ]
     },
     "execution_count": 3,
     "metadata": {},
     "output_type": "execute_result"
    }
   ],
   "source": [
    "train_data.head()"
   ]
  },
  {
   "cell_type": "code",
   "execution_count": 4,
   "metadata": {},
   "outputs": [
    {
     "data": {
      "text/html": [
       "<div>\n",
       "<style scoped>\n",
       "    .dataframe tbody tr th:only-of-type {\n",
       "        vertical-align: middle;\n",
       "    }\n",
       "\n",
       "    .dataframe tbody tr th {\n",
       "        vertical-align: top;\n",
       "    }\n",
       "\n",
       "    .dataframe thead th {\n",
       "        text-align: right;\n",
       "    }\n",
       "</style>\n",
       "<table border=\"1\" class=\"dataframe\">\n",
       "  <thead>\n",
       "    <tr style=\"text-align: right;\">\n",
       "      <th></th>\n",
       "      <th>Item_Id</th>\n",
       "      <th>Date</th>\n",
       "      <th>State_of_Country</th>\n",
       "      <th>Market_Category</th>\n",
       "      <th>Product_Category</th>\n",
       "      <th>Grade</th>\n",
       "      <th>Demand</th>\n",
       "      <th>High_Cap_Price</th>\n",
       "    </tr>\n",
       "  </thead>\n",
       "  <tbody>\n",
       "    <tr>\n",
       "      <th>0</th>\n",
       "      <td>IT_265079</td>\n",
       "      <td>2014-01-19</td>\n",
       "      <td>0</td>\n",
       "      <td>3</td>\n",
       "      <td>0</td>\n",
       "      <td>0</td>\n",
       "      <td>0.1</td>\n",
       "      <td>5303</td>\n",
       "    </tr>\n",
       "    <tr>\n",
       "      <th>1</th>\n",
       "      <td>IT_265087</td>\n",
       "      <td>2014-01-19</td>\n",
       "      <td>0</td>\n",
       "      <td>268</td>\n",
       "      <td>0</td>\n",
       "      <td>2</td>\n",
       "      <td>1.4</td>\n",
       "      <td>10492</td>\n",
       "    </tr>\n",
       "    <tr>\n",
       "      <th>2</th>\n",
       "      <td>IT_265107</td>\n",
       "      <td>2014-01-19</td>\n",
       "      <td>0</td>\n",
       "      <td>320</td>\n",
       "      <td>0</td>\n",
       "      <td>0</td>\n",
       "      <td>13.4</td>\n",
       "      <td>24706</td>\n",
       "    </tr>\n",
       "    <tr>\n",
       "      <th>3</th>\n",
       "      <td>IT_265139</td>\n",
       "      <td>2014-01-19</td>\n",
       "      <td>17</td>\n",
       "      <td>358</td>\n",
       "      <td>0</td>\n",
       "      <td>3</td>\n",
       "      <td>5.5</td>\n",
       "      <td>23464</td>\n",
       "    </tr>\n",
       "    <tr>\n",
       "      <th>4</th>\n",
       "      <td>IT_265142</td>\n",
       "      <td>2014-01-19</td>\n",
       "      <td>18</td>\n",
       "      <td>23</td>\n",
       "      <td>5</td>\n",
       "      <td>2</td>\n",
       "      <td>0.0</td>\n",
       "      <td>6222</td>\n",
       "    </tr>\n",
       "  </tbody>\n",
       "</table>\n",
       "</div>"
      ],
      "text/plain": [
       "     Item_Id        Date  State_of_Country  Market_Category  Product_Category  \\\n",
       "0  IT_265079  2014-01-19                 0                3                 0   \n",
       "1  IT_265087  2014-01-19                 0              268                 0   \n",
       "2  IT_265107  2014-01-19                 0              320                 0   \n",
       "3  IT_265139  2014-01-19                17              358                 0   \n",
       "4  IT_265142  2014-01-19                18               23                 5   \n",
       "\n",
       "   Grade  Demand  High_Cap_Price  \n",
       "0      0     0.1            5303  \n",
       "1      2     1.4           10492  \n",
       "2      0    13.4           24706  \n",
       "3      3     5.5           23464  \n",
       "4      2     0.0            6222  "
      ]
     },
     "execution_count": 4,
     "metadata": {},
     "output_type": "execute_result"
    }
   ],
   "source": [
    "test_data.head()"
   ]
  },
  {
   "cell_type": "code",
   "execution_count": 5,
   "metadata": {},
   "outputs": [
    {
     "data": {
      "text/plain": [
       "(9798, 9)"
      ]
     },
     "execution_count": 5,
     "metadata": {},
     "output_type": "execute_result"
    }
   ],
   "source": [
    "train_data.shape"
   ]
  },
  {
   "cell_type": "code",
   "execution_count": 6,
   "metadata": {},
   "outputs": [
    {
     "data": {
      "text/plain": [
       "Item_Id             0\n",
       "Date                0\n",
       "State_of_Country    0\n",
       "Market_Category     0\n",
       "Product_Category    0\n",
       "Grade               0\n",
       "Demand              0\n",
       "Low_Cap_Price       0\n",
       "High_Cap_Price      0\n",
       "dtype: int64"
      ]
     },
     "execution_count": 6,
     "metadata": {},
     "output_type": "execute_result"
    }
   ],
   "source": [
    "train_data.isnull().sum()"
   ]
  },
  {
   "cell_type": "code",
   "execution_count": 7,
   "metadata": {},
   "outputs": [
    {
     "data": {
      "text/plain": [
       "Item_Id             0\n",
       "Date                0\n",
       "State_of_Country    0\n",
       "Market_Category     0\n",
       "Product_Category    0\n",
       "Grade               0\n",
       "Demand              0\n",
       "High_Cap_Price      0\n",
       "dtype: int64"
      ]
     },
     "execution_count": 7,
     "metadata": {},
     "output_type": "execute_result"
    }
   ],
   "source": [
    "test_data.isnull().sum()\n"
   ]
  },
  {
   "cell_type": "code",
   "execution_count": 8,
   "metadata": {},
   "outputs": [
    {
     "data": {
      "text/html": [
       "<div>\n",
       "<style scoped>\n",
       "    .dataframe tbody tr th:only-of-type {\n",
       "        vertical-align: middle;\n",
       "    }\n",
       "\n",
       "    .dataframe tbody tr th {\n",
       "        vertical-align: top;\n",
       "    }\n",
       "\n",
       "    .dataframe thead th {\n",
       "        text-align: right;\n",
       "    }\n",
       "</style>\n",
       "<table border=\"1\" class=\"dataframe\">\n",
       "  <thead>\n",
       "    <tr style=\"text-align: right;\">\n",
       "      <th></th>\n",
       "      <th>Item_Id</th>\n",
       "      <th>Date</th>\n",
       "      <th>State_of_Country</th>\n",
       "      <th>Market_Category</th>\n",
       "      <th>Product_Category</th>\n",
       "      <th>Grade</th>\n",
       "      <th>Demand</th>\n",
       "      <th>Low_Cap_Price</th>\n",
       "      <th>High_Cap_Price</th>\n",
       "    </tr>\n",
       "  </thead>\n",
       "  <tbody>\n",
       "    <tr>\n",
       "      <th>0</th>\n",
       "      <td>IT_1</td>\n",
       "      <td>2007-07-05</td>\n",
       "      <td>0</td>\n",
       "      <td>0</td>\n",
       "      <td>0</td>\n",
       "      <td>0</td>\n",
       "      <td>0.5</td>\n",
       "      <td>2785</td>\n",
       "      <td>4240</td>\n",
       "    </tr>\n",
       "    <tr>\n",
       "      <th>1</th>\n",
       "      <td>IT_2</td>\n",
       "      <td>2007-07-05</td>\n",
       "      <td>0</td>\n",
       "      <td>1</td>\n",
       "      <td>0</td>\n",
       "      <td>0</td>\n",
       "      <td>0.7</td>\n",
       "      <td>3574</td>\n",
       "      <td>4756</td>\n",
       "    </tr>\n",
       "    <tr>\n",
       "      <th>2</th>\n",
       "      <td>IT_3</td>\n",
       "      <td>2007-07-05</td>\n",
       "      <td>0</td>\n",
       "      <td>103</td>\n",
       "      <td>0</td>\n",
       "      <td>1</td>\n",
       "      <td>1.6</td>\n",
       "      <td>5978</td>\n",
       "      <td>9669</td>\n",
       "    </tr>\n",
       "    <tr>\n",
       "      <th>3</th>\n",
       "      <td>IT_4</td>\n",
       "      <td>2007-07-05</td>\n",
       "      <td>0</td>\n",
       "      <td>103</td>\n",
       "      <td>0</td>\n",
       "      <td>0</td>\n",
       "      <td>0.0</td>\n",
       "      <td>5681</td>\n",
       "      <td>8313</td>\n",
       "    </tr>\n",
       "    <tr>\n",
       "      <th>4</th>\n",
       "      <td>IT_5</td>\n",
       "      <td>2007-07-05</td>\n",
       "      <td>0</td>\n",
       "      <td>103</td>\n",
       "      <td>0</td>\n",
       "      <td>2</td>\n",
       "      <td>0.0</td>\n",
       "      <td>4924</td>\n",
       "      <td>7257</td>\n",
       "    </tr>\n",
       "  </tbody>\n",
       "</table>\n",
       "</div>"
      ],
      "text/plain": [
       "  Item_Id        Date  State_of_Country  Market_Category  Product_Category  \\\n",
       "0    IT_1  2007-07-05                 0                0                 0   \n",
       "1    IT_2  2007-07-05                 0                1                 0   \n",
       "2    IT_3  2007-07-05                 0              103                 0   \n",
       "3    IT_4  2007-07-05                 0              103                 0   \n",
       "4    IT_5  2007-07-05                 0              103                 0   \n",
       "\n",
       "   Grade  Demand  Low_Cap_Price  High_Cap_Price  \n",
       "0      0     0.5           2785            4240  \n",
       "1      0     0.7           3574            4756  \n",
       "2      1     1.6           5978            9669  \n",
       "3      0     0.0           5681            8313  \n",
       "4      2     0.0           4924            7257  "
      ]
     },
     "execution_count": 8,
     "metadata": {},
     "output_type": "execute_result"
    }
   ],
   "source": [
    "train_data.head()"
   ]
  },
  {
   "cell_type": "code",
   "execution_count": 9,
   "metadata": {},
   "outputs": [
    {
     "data": {
      "text/plain": [
       "array([ 0, 11, 17, 18, 20, 21, 22, 23,  1,  2,  3,  4,  5,  6, 19,  8,  9,\n",
       "       10, 13, 14,  7], dtype=int64)"
      ]
     },
     "execution_count": 9,
     "metadata": {},
     "output_type": "execute_result"
    }
   ],
   "source": [
    "train_data['State_of_Country'].unique()"
   ]
  },
  {
   "cell_type": "code",
   "execution_count": 10,
   "metadata": {},
   "outputs": [],
   "source": [
    "train_data.drop(['Date'],axis = 1, inplace = True)\n",
    "train_data.drop(['Item_Id'], axis = 1, inplace = True)"
   ]
  },
  {
   "cell_type": "code",
   "execution_count": 11,
   "metadata": {},
   "outputs": [
    {
     "data": {
      "text/html": [
       "<div>\n",
       "<style scoped>\n",
       "    .dataframe tbody tr th:only-of-type {\n",
       "        vertical-align: middle;\n",
       "    }\n",
       "\n",
       "    .dataframe tbody tr th {\n",
       "        vertical-align: top;\n",
       "    }\n",
       "\n",
       "    .dataframe thead th {\n",
       "        text-align: right;\n",
       "    }\n",
       "</style>\n",
       "<table border=\"1\" class=\"dataframe\">\n",
       "  <thead>\n",
       "    <tr style=\"text-align: right;\">\n",
       "      <th></th>\n",
       "      <th>State_of_Country</th>\n",
       "      <th>Market_Category</th>\n",
       "      <th>Product_Category</th>\n",
       "      <th>Grade</th>\n",
       "      <th>Demand</th>\n",
       "      <th>Low_Cap_Price</th>\n",
       "      <th>High_Cap_Price</th>\n",
       "    </tr>\n",
       "  </thead>\n",
       "  <tbody>\n",
       "    <tr>\n",
       "      <th>State_of_Country</th>\n",
       "      <td>1.000000</td>\n",
       "      <td>0.122124</td>\n",
       "      <td>0.205858</td>\n",
       "      <td>-0.038140</td>\n",
       "      <td>-0.002647</td>\n",
       "      <td>0.234901</td>\n",
       "      <td>0.027959</td>\n",
       "    </tr>\n",
       "    <tr>\n",
       "      <th>Market_Category</th>\n",
       "      <td>0.122124</td>\n",
       "      <td>1.000000</td>\n",
       "      <td>-0.030353</td>\n",
       "      <td>-0.034454</td>\n",
       "      <td>-0.049241</td>\n",
       "      <td>0.198524</td>\n",
       "      <td>0.144557</td>\n",
       "    </tr>\n",
       "    <tr>\n",
       "      <th>Product_Category</th>\n",
       "      <td>0.205858</td>\n",
       "      <td>-0.030353</td>\n",
       "      <td>1.000000</td>\n",
       "      <td>-0.056394</td>\n",
       "      <td>0.085874</td>\n",
       "      <td>0.180240</td>\n",
       "      <td>0.114415</td>\n",
       "    </tr>\n",
       "    <tr>\n",
       "      <th>Grade</th>\n",
       "      <td>-0.038140</td>\n",
       "      <td>-0.034454</td>\n",
       "      <td>-0.056394</td>\n",
       "      <td>1.000000</td>\n",
       "      <td>0.047414</td>\n",
       "      <td>-0.079639</td>\n",
       "      <td>0.171083</td>\n",
       "    </tr>\n",
       "    <tr>\n",
       "      <th>Demand</th>\n",
       "      <td>-0.002647</td>\n",
       "      <td>-0.049241</td>\n",
       "      <td>0.085874</td>\n",
       "      <td>0.047414</td>\n",
       "      <td>1.000000</td>\n",
       "      <td>-0.057482</td>\n",
       "      <td>-0.033971</td>\n",
       "    </tr>\n",
       "    <tr>\n",
       "      <th>Low_Cap_Price</th>\n",
       "      <td>0.234901</td>\n",
       "      <td>0.198524</td>\n",
       "      <td>0.180240</td>\n",
       "      <td>-0.079639</td>\n",
       "      <td>-0.057482</td>\n",
       "      <td>1.000000</td>\n",
       "      <td>0.721021</td>\n",
       "    </tr>\n",
       "    <tr>\n",
       "      <th>High_Cap_Price</th>\n",
       "      <td>0.027959</td>\n",
       "      <td>0.144557</td>\n",
       "      <td>0.114415</td>\n",
       "      <td>0.171083</td>\n",
       "      <td>-0.033971</td>\n",
       "      <td>0.721021</td>\n",
       "      <td>1.000000</td>\n",
       "    </tr>\n",
       "  </tbody>\n",
       "</table>\n",
       "</div>"
      ],
      "text/plain": [
       "                  State_of_Country  Market_Category  Product_Category  \\\n",
       "State_of_Country          1.000000         0.122124          0.205858   \n",
       "Market_Category           0.122124         1.000000         -0.030353   \n",
       "Product_Category          0.205858        -0.030353          1.000000   \n",
       "Grade                    -0.038140        -0.034454         -0.056394   \n",
       "Demand                   -0.002647        -0.049241          0.085874   \n",
       "Low_Cap_Price             0.234901         0.198524          0.180240   \n",
       "High_Cap_Price            0.027959         0.144557          0.114415   \n",
       "\n",
       "                     Grade    Demand  Low_Cap_Price  High_Cap_Price  \n",
       "State_of_Country -0.038140 -0.002647       0.234901        0.027959  \n",
       "Market_Category  -0.034454 -0.049241       0.198524        0.144557  \n",
       "Product_Category -0.056394  0.085874       0.180240        0.114415  \n",
       "Grade             1.000000  0.047414      -0.079639        0.171083  \n",
       "Demand            0.047414  1.000000      -0.057482       -0.033971  \n",
       "Low_Cap_Price    -0.079639 -0.057482       1.000000        0.721021  \n",
       "High_Cap_Price    0.171083 -0.033971       0.721021        1.000000  "
      ]
     },
     "execution_count": 11,
     "metadata": {},
     "output_type": "execute_result"
    }
   ],
   "source": [
    "train_data.corr()"
   ]
  },
  {
   "cell_type": "code",
   "execution_count": 12,
   "metadata": {},
   "outputs": [],
   "source": [
    "import seaborn as sns"
   ]
  },
  {
   "cell_type": "code",
   "execution_count": 13,
   "metadata": {},
   "outputs": [
    {
     "data": {
      "text/plain": [
       "<matplotlib.axes._subplots.AxesSubplot at 0x24191174848>"
      ]
     },
     "execution_count": 13,
     "metadata": {},
     "output_type": "execute_result"
    },
    {
     "data": {
      "image/png": "[encoded data removed]",
      "text/plain": [
       "<Figure size 1080x720 with 2 Axes>"
      ]
     },
     "metadata": {
      "needs_background": "light"
     },
     "output_type": "display_data"
    }
   ],
   "source": [
    "plt.figure(figsize=(15,10))\n",
    "sns.heatmap(train_data.corr(),annot = True, cmap='RdYlGn')"
   ]
  },
  {
   "cell_type": "code",
   "execution_count": 14,
   "metadata": {},
   "outputs": [],
   "source": [
    "X = train_data.drop('Low_Cap_Price', axis =1)\n",
    "y = train_data['Low_Cap_Price']"
   ]
  },
  {
   "cell_type": "code",
   "execution_count": 15,
   "metadata": {},
   "outputs": [
    {
     "data": {
      "text/plain": [
       "ExtraTreesRegressor(bootstrap=False, ccp_alpha=0.0, criterion='mse',\n",
       "                    max_depth=None, max_features='auto', max_leaf_nodes=None,\n",
       "                    max_samples=None, min_impurity_decrease=0.0,\n",
       "                    min_impurity_split=None, min_samples_leaf=1,\n",
       "                    min_samples_split=2, min_weight_fraction_leaf=0.0,\n",
       "                    n_estimators=100, n_jobs=None, oob_score=False,\n",
       "                    random_state=None, verbose=0, warm_start=False)"
      ]
     },
     "execution_count": 15,
     "metadata": {},
     "output_type": "execute_result"
    }
   ],
   "source": [
    "###feature importance\n",
    "\n",
    "from sklearn.ensemble import ExtraTreesRegressor\n",
    "model = ExtraTreesRegressor()\n",
    "model.fit(X,y)"
   ]
  },
  {
   "cell_type": "code",
   "execution_count": 16,
   "metadata": {},
   "outputs": [
    {
     "name": "stdout",
     "output_type": "stream",
     "text": [
      "[0.15124328 0.07858446 0.03969259 0.03776433 0.07650389 0.61621146]\n"
     ]
    }
   ],
   "source": [
    "print(model.feature_importances_)"
   ]
  },
  {
   "cell_type": "code",
   "execution_count": 17,
   "metadata": {},
   "outputs": [
    {
     "data": {
      "image/png": "[encoded data removed]",
      "text/plain": [
       "<Figure size 432x288 with 1 Axes>"
      ]
     },
     "metadata": {
      "needs_background": "light"
     },
     "output_type": "display_data"
    }
   ],
   "source": [
    "feat_importance = pd.Series(model.feature_importances_,index = X.columns)\n",
    "feat_importance.nlargest().plot(kind='barh')\n",
    "plt.show()"
   ]
  },
  {
   "cell_type": "code",
   "execution_count": 18,
   "metadata": {},
   "outputs": [],
   "source": [
    "from sklearn.model_selection import train_test_split\n",
    "X_train,X_test,y_train,y_test = train_test_split(X,y,test_size=.2)"
   ]
  },
  {
   "cell_type": "code",
   "execution_count": 19,
   "metadata": {},
   "outputs": [],
   "source": [
    "from sklearn.ensemble import GradientBoostingRegressor\n",
    "from sklearn.ensemble import AdaBoostRegressor\n",
    "from sklearn.ensemble import  RandomForestRegressor"
   ]
  },
  {
   "cell_type": "code",
   "execution_count": 20,
   "metadata": {},
   "outputs": [],
   "source": [
    "rf=RandomForestRegressor()\n",
    "ada = AdaBoostRegressor()\n",
    "gbr = GradientBoostingRegressor()\n",
    "\n"
   ]
  },
  {
   "cell_type": "code",
   "execution_count": 21,
   "metadata": {},
   "outputs": [],
   "source": [
    "###hyperparameters for rf\n",
    "\n",
    "\n",
    "#numberoftrees in random forest\n",
    "n_estimators= [int(x) for x in np.linspace(start=100,stop=1200,num=12)]\n",
    "\n",
    "#number of features to consider at every split\n",
    "max_features = ['auto','sqrt']\n",
    "\n",
    "#max number of levels in tree\n",
    "max_depth = [int(x) for x in np.linspace(5,30,num=6)]\n",
    "\n",
    "#Min number of samples required to split a node\n",
    "\n",
    "min_sample_split = [2,5,10,15,100]\n",
    "\n",
    "#Min number of samples required at each leaf node\n",
    "\n",
    "min_samples_leaf = [1,2,5,10]\n"
   ]
  },
  {
   "cell_type": "code",
   "execution_count": 22,
   "metadata": {},
   "outputs": [],
   "source": [
    "from sklearn.model_selection import RandomizedSearchCV"
   ]
  },
  {
   "cell_type": "code",
   "execution_count": 23,
   "metadata": {},
   "outputs": [],
   "source": [
    "#create the random grid\n",
    "\n",
    "random_grid = { 'n_estimators' : n_estimators,\n",
    "                'max_features' : max_features,\n",
    "                'max_depth' :max_depth,\n",
    "                'min_samples_split' : min_sample_split,\n",
    "                'min_samples_leaf' : min_samples_leaf\n",
    "}\n"
   ]
  },
  {
   "cell_type": "code",
   "execution_count": 24,
   "metadata": {},
   "outputs": [],
   "source": [
    "rf_random = RandomizedSearchCV(estimator=rf, param_distributions=random_grid,scoring='neg_mean_squared_error',n_iter=10,cv=5,verbose=2,random_state=7,n_jobs=1)"
   ]
  },
  {
   "cell_type": "code",
   "execution_count": 25,
   "metadata": {},
   "outputs": [
    {
     "name": "stdout",
     "output_type": "stream",
     "text": [
      "Fitting 5 folds for each of 10 candidates, totalling 50 fits\n",
      "[CV] n_estimators=800, min_samples_split=100, min_samples_leaf=5, max_features=auto, max_depth=5 \n"
     ]
    },
    {
     "name": "stderr",
     "output_type": "stream",
     "text": [
      "[Parallel(n_jobs=1)]: Using backend SequentialBackend with 1 concurrent workers.\n"
     ]
    },
    {
     "name": "stdout",
     "output_type": "stream",
     "text": [
      "[CV]  n_estimators=800, min_samples_split=100, min_samples_leaf=5, max_features=auto, max_depth=5, total=   4.3s\n",
      "[CV] n_estimators=800, min_samples_split=100, min_samples_leaf=5, max_features=auto, max_depth=5 \n"
     ]
    },
    {
     "name": "stderr",
     "output_type": "stream",
     "text": [
      "[Parallel(n_jobs=1)]: Done   1 out of   1 | elapsed:    4.2s remaining:    0.0s\n"
     ]
    },
    {
     "name": "stdout",
     "output_type": "stream",
     "text": [
      "[CV]  n_estimators=800, min_samples_split=100, min_samples_leaf=5, max_features=auto, max_depth=5, total=   4.0s\n",
      "[CV] n_estimators=800, min_samples_split=100, min_samples_leaf=5, max_features=auto, max_depth=5 \n",
      "[CV]  n_estimators=800, min_samples_split=100, min_samples_leaf=5, max_features=auto, max_depth=5, total=   3.9s\n",
      "[CV] n_estimators=800, min_samples_split=100, min_samples_leaf=5, max_features=auto, max_depth=5 \n",
      "[CV]  n_estimators=800, min_samples_split=100, min_samples_leaf=5, max_features=auto, max_depth=5, total=   4.1s\n",
      "[CV] n_estimators=800, min_samples_split=100, min_samples_leaf=5, max_features=auto, max_depth=5 \n",
      "[CV]  n_estimators=800, min_samples_split=100, min_samples_leaf=5, max_features=auto, max_depth=5, total=   4.3s\n",
      "[CV] n_estimators=900, min_samples_split=5, min_samples_leaf=1, max_features=sqrt, max_depth=15 \n",
      "[CV]  n_estimators=900, min_samples_split=5, min_samples_leaf=1, max_features=sqrt, max_depth=15, total=   4.6s\n",
      "[CV] n_estimators=900, min_samples_split=5, min_samples_leaf=1, max_features=sqrt, max_depth=15 \n",
      "[CV]  n_estimators=900, min_samples_split=5, min_samples_leaf=1, max_features=sqrt, max_depth=15, total=   4.7s\n",
      "[CV] n_estimators=900, min_samples_split=5, min_samples_leaf=1, max_features=sqrt, max_depth=15 \n",
      "[CV]  n_estimators=900, min_samples_split=5, min_samples_leaf=1, max_features=sqrt, max_depth=15, total=   4.7s\n",
      "[CV] n_estimators=900, min_samples_split=5, min_samples_leaf=1, max_features=sqrt, max_depth=15 \n",
      "[CV]  n_estimators=900, min_samples_split=5, min_samples_leaf=1, max_features=sqrt, max_depth=15, total=   4.7s\n",
      "[CV] n_estimators=900, min_samples_split=5, min_samples_leaf=1, max_features=sqrt, max_depth=15 \n",
      "[CV]  n_estimators=900, min_samples_split=5, min_samples_leaf=1, max_features=sqrt, max_depth=15, total=   4.8s\n",
      "[CV] n_estimators=1000, min_samples_split=100, min_samples_leaf=1, max_features=auto, max_depth=10 \n",
      "[CV]  n_estimators=1000, min_samples_split=100, min_samples_leaf=1, max_features=auto, max_depth=10, total=   6.3s\n",
      "[CV] n_estimators=1000, min_samples_split=100, min_samples_leaf=1, max_features=auto, max_depth=10 \n",
      "[CV]  n_estimators=1000, min_samples_split=100, min_samples_leaf=1, max_features=auto, max_depth=10, total=   6.2s\n",
      "[CV] n_estimators=1000, min_samples_split=100, min_samples_leaf=1, max_features=auto, max_depth=10 \n",
      "[CV]  n_estimators=1000, min_samples_split=100, min_samples_leaf=1, max_features=auto, max_depth=10, total=   6.2s\n",
      "[CV] n_estimators=1000, min_samples_split=100, min_samples_leaf=1, max_features=auto, max_depth=10 \n",
      "[CV]  n_estimators=1000, min_samples_split=100, min_samples_leaf=1, max_features=auto, max_depth=10, total=   6.5s\n",
      "[CV] n_estimators=1000, min_samples_split=100, min_samples_leaf=1, max_features=auto, max_depth=10 \n",
      "[CV]  n_estimators=1000, min_samples_split=100, min_samples_leaf=1, max_features=auto, max_depth=10, total=   6.5s\n",
      "[CV] n_estimators=700, min_samples_split=10, min_samples_leaf=5, max_features=auto, max_depth=30 \n",
      "[CV]  n_estimators=700, min_samples_split=10, min_samples_leaf=5, max_features=auto, max_depth=30, total=   6.2s\n",
      "[CV] n_estimators=700, min_samples_split=10, min_samples_leaf=5, max_features=auto, max_depth=30 \n",
      "[CV]  n_estimators=700, min_samples_split=10, min_samples_leaf=5, max_features=auto, max_depth=30, total=   6.4s\n",
      "[CV] n_estimators=700, min_samples_split=10, min_samples_leaf=5, max_features=auto, max_depth=30 \n",
      "[CV]  n_estimators=700, min_samples_split=10, min_samples_leaf=5, max_features=auto, max_depth=30, total=   6.2s\n",
      "[CV] n_estimators=700, min_samples_split=10, min_samples_leaf=5, max_features=auto, max_depth=30 \n",
      "[CV]  n_estimators=700, min_samples_split=10, min_samples_leaf=5, max_features=auto, max_depth=30, total=   6.2s\n",
      "[CV] n_estimators=700, min_samples_split=10, min_samples_leaf=5, max_features=auto, max_depth=30 \n",
      "[CV]  n_estimators=700, min_samples_split=10, min_samples_leaf=5, max_features=auto, max_depth=30, total=   6.3s\n",
      "[CV] n_estimators=800, min_samples_split=15, min_samples_leaf=5, max_features=auto, max_depth=20 \n",
      "[CV]  n_estimators=800, min_samples_split=15, min_samples_leaf=5, max_features=auto, max_depth=20, total=   6.9s\n",
      "[CV] n_estimators=800, min_samples_split=15, min_samples_leaf=5, max_features=auto, max_depth=20 \n",
      "[CV]  n_estimators=800, min_samples_split=15, min_samples_leaf=5, max_features=auto, max_depth=20, total=   6.8s\n",
      "[CV] n_estimators=800, min_samples_split=15, min_samples_leaf=5, max_features=auto, max_depth=20 \n",
      "[CV]  n_estimators=800, min_samples_split=15, min_samples_leaf=5, max_features=auto, max_depth=20, total=   6.7s\n",
      "[CV] n_estimators=800, min_samples_split=15, min_samples_leaf=5, max_features=auto, max_depth=20 \n",
      "[CV]  n_estimators=800, min_samples_split=15, min_samples_leaf=5, max_features=auto, max_depth=20, total=   6.8s\n",
      "[CV] n_estimators=800, min_samples_split=15, min_samples_leaf=5, max_features=auto, max_depth=20 \n",
      "[CV]  n_estimators=800, min_samples_split=15, min_samples_leaf=5, max_features=auto, max_depth=20, total=   6.6s\n",
      "[CV] n_estimators=800, min_samples_split=10, min_samples_leaf=10, max_features=auto, max_depth=5 \n",
      "[CV]  n_estimators=800, min_samples_split=10, min_samples_leaf=10, max_features=auto, max_depth=5, total=   5.9s\n",
      "[CV] n_estimators=800, min_samples_split=10, min_samples_leaf=10, max_features=auto, max_depth=5 \n",
      "[CV]  n_estimators=800, min_samples_split=10, min_samples_leaf=10, max_features=auto, max_depth=5, total=   4.0s\n",
      "[CV] n_estimators=800, min_samples_split=10, min_samples_leaf=10, max_features=auto, max_depth=5 \n",
      "[CV]  n_estimators=800, min_samples_split=10, min_samples_leaf=10, max_features=auto, max_depth=5, total=   4.0s\n",
      "[CV] n_estimators=800, min_samples_split=10, min_samples_leaf=10, max_features=auto, max_depth=5 \n",
      "[CV]  n_estimators=800, min_samples_split=10, min_samples_leaf=10, max_features=auto, max_depth=5, total=   4.0s\n",
      "[CV] n_estimators=800, min_samples_split=10, min_samples_leaf=10, max_features=auto, max_depth=5 \n",
      "[CV]  n_estimators=800, min_samples_split=10, min_samples_leaf=10, max_features=auto, max_depth=5, total=   4.4s\n",
      "[CV] n_estimators=800, min_samples_split=5, min_samples_leaf=10, max_features=sqrt, max_depth=10 \n",
      "[CV]  n_estimators=800, min_samples_split=5, min_samples_leaf=10, max_features=sqrt, max_depth=10, total=   3.3s\n",
      "[CV] n_estimators=800, min_samples_split=5, min_samples_leaf=10, max_features=sqrt, max_depth=10 \n",
      "[CV]  n_estimators=800, min_samples_split=5, min_samples_leaf=10, max_features=sqrt, max_depth=10, total=   3.0s\n",
      "[CV] n_estimators=800, min_samples_split=5, min_samples_leaf=10, max_features=sqrt, max_depth=10 \n",
      "[CV]  n_estimators=800, min_samples_split=5, min_samples_leaf=10, max_features=sqrt, max_depth=10, total=   3.2s\n",
      "[CV] n_estimators=800, min_samples_split=5, min_samples_leaf=10, max_features=sqrt, max_depth=10 \n",
      "[CV]  n_estimators=800, min_samples_split=5, min_samples_leaf=10, max_features=sqrt, max_depth=10, total=   2.9s\n",
      "[CV] n_estimators=800, min_samples_split=5, min_samples_leaf=10, max_features=sqrt, max_depth=10 \n",
      "[CV]  n_estimators=800, min_samples_split=5, min_samples_leaf=10, max_features=sqrt, max_depth=10, total=   2.9s\n",
      "[CV] n_estimators=800, min_samples_split=5, min_samples_leaf=10, max_features=auto, max_depth=20 \n",
      "[CV]  n_estimators=800, min_samples_split=5, min_samples_leaf=10, max_features=auto, max_depth=20, total=   6.2s\n",
      "[CV] n_estimators=800, min_samples_split=5, min_samples_leaf=10, max_features=auto, max_depth=20 \n",
      "[CV]  n_estimators=800, min_samples_split=5, min_samples_leaf=10, max_features=auto, max_depth=20, total=   6.5s\n",
      "[CV] n_estimators=800, min_samples_split=5, min_samples_leaf=10, max_features=auto, max_depth=20 \n",
      "[CV]  n_estimators=800, min_samples_split=5, min_samples_leaf=10, max_features=auto, max_depth=20, total=   6.7s\n",
      "[CV] n_estimators=800, min_samples_split=5, min_samples_leaf=10, max_features=auto, max_depth=20 \n",
      "[CV]  n_estimators=800, min_samples_split=5, min_samples_leaf=10, max_features=auto, max_depth=20, total=   6.0s\n",
      "[CV] n_estimators=800, min_samples_split=5, min_samples_leaf=10, max_features=auto, max_depth=20 \n",
      "[CV]  n_estimators=800, min_samples_split=5, min_samples_leaf=10, max_features=auto, max_depth=20, total=   6.1s\n",
      "[CV] n_estimators=500, min_samples_split=100, min_samples_leaf=5, max_features=sqrt, max_depth=15 \n"
     ]
    },
    {
     "name": "stdout",
     "output_type": "stream",
     "text": [
      "[CV]  n_estimators=500, min_samples_split=100, min_samples_leaf=5, max_features=sqrt, max_depth=15, total=   1.6s\n",
      "[CV] n_estimators=500, min_samples_split=100, min_samples_leaf=5, max_features=sqrt, max_depth=15 \n",
      "[CV]  n_estimators=500, min_samples_split=100, min_samples_leaf=5, max_features=sqrt, max_depth=15, total=   1.5s\n",
      "[CV] n_estimators=500, min_samples_split=100, min_samples_leaf=5, max_features=sqrt, max_depth=15 \n",
      "[CV]  n_estimators=500, min_samples_split=100, min_samples_leaf=5, max_features=sqrt, max_depth=15, total=   1.6s\n",
      "[CV] n_estimators=500, min_samples_split=100, min_samples_leaf=5, max_features=sqrt, max_depth=15 \n",
      "[CV]  n_estimators=500, min_samples_split=100, min_samples_leaf=5, max_features=sqrt, max_depth=15, total=   1.6s\n",
      "[CV] n_estimators=500, min_samples_split=100, min_samples_leaf=5, max_features=sqrt, max_depth=15 \n",
      "[CV]  n_estimators=500, min_samples_split=100, min_samples_leaf=5, max_features=sqrt, max_depth=15, total=   1.5s\n",
      "[CV] n_estimators=400, min_samples_split=2, min_samples_leaf=10, max_features=auto, max_depth=30 \n",
      "[CV]  n_estimators=400, min_samples_split=2, min_samples_leaf=10, max_features=auto, max_depth=30, total=   3.0s\n",
      "[CV] n_estimators=400, min_samples_split=2, min_samples_leaf=10, max_features=auto, max_depth=30 \n",
      "[CV]  n_estimators=400, min_samples_split=2, min_samples_leaf=10, max_features=auto, max_depth=30, total=   3.1s\n",
      "[CV] n_estimators=400, min_samples_split=2, min_samples_leaf=10, max_features=auto, max_depth=30 \n",
      "[CV]  n_estimators=400, min_samples_split=2, min_samples_leaf=10, max_features=auto, max_depth=30, total=   3.1s\n",
      "[CV] n_estimators=400, min_samples_split=2, min_samples_leaf=10, max_features=auto, max_depth=30 \n",
      "[CV]  n_estimators=400, min_samples_split=2, min_samples_leaf=10, max_features=auto, max_depth=30, total=   3.1s\n",
      "[CV] n_estimators=400, min_samples_split=2, min_samples_leaf=10, max_features=auto, max_depth=30 \n",
      "[CV]  n_estimators=400, min_samples_split=2, min_samples_leaf=10, max_features=auto, max_depth=30, total=   3.0s\n"
     ]
    },
    {
     "name": "stderr",
     "output_type": "stream",
     "text": [
      "[Parallel(n_jobs=1)]: Done  50 out of  50 | elapsed:  3.9min finished\n"
     ]
    },
    {
     "data": {
      "text/plain": [
       "RandomizedSearchCV(cv=5, error_score=nan,\n",
       "                   estimator=RandomForestRegressor(bootstrap=True,\n",
       "                                                   ccp_alpha=0.0,\n",
       "                                                   criterion='mse',\n",
       "                                                   max_depth=None,\n",
       "                                                   max_features='auto',\n",
       "                                                   max_leaf_nodes=None,\n",
       "                                                   max_samples=None,\n",
       "                                                   min_impurity_decrease=0.0,\n",
       "                                                   min_impurity_split=None,\n",
       "                                                   min_samples_leaf=1,\n",
       "                                                   min_samples_split=2,\n",
       "                                                   min_weight_fraction_leaf=0.0,\n",
       "                                                   n_estimators=100,\n",
       "                                                   n_jobs=None, oob_score=Fals...\n",
       "                   iid='deprecated', n_iter=10, n_jobs=1,\n",
       "                   param_distributions={'max_depth': [5, 10, 15, 20, 25, 30],\n",
       "                                        'max_features': ['auto', 'sqrt'],\n",
       "                                        'min_samples_leaf': [1, 2, 5, 10],\n",
       "                                        'min_samples_split': [2, 5, 10, 15,\n",
       "                                                              100],\n",
       "                                        'n_estimators': [100, 200, 300, 400,\n",
       "                                                         500, 600, 700, 800,\n",
       "                                                         900, 1000, 1100,\n",
       "                                                         1200]},\n",
       "                   pre_dispatch='2*n_jobs', random_state=7, refit=True,\n",
       "                   return_train_score=False, scoring='neg_mean_squared_error',\n",
       "                   verbose=2)"
      ]
     },
     "execution_count": 25,
     "metadata": {},
     "output_type": "execute_result"
    }
   ],
   "source": [
    "rf_random.fit(X_train,y_train)"
   ]
  },
  {
   "cell_type": "code",
   "execution_count": null,
   "metadata": {},
   "outputs": [],
   "source": []
  },
  {
   "cell_type": "code",
   "execution_count": 26,
   "metadata": {},
   "outputs": [],
   "source": [
    "#Hyperparameters for gradient boosting regressor\n",
    "\n",
    "\n",
    "n_estimators= [int(x) for x in np.linspace(start=100,stop=1200,num=12)]\n",
    "\n",
    "#learning_rate\n",
    "learning_rate = [0.1,0.05,0.01]\n",
    "    \n",
    "#number of features to consider at every split\n",
    "max_features = ['auto','sqrt']\n",
    "\n",
    "#max number of levels in tree\n",
    "max_depth = [int(x) for x in np.linspace(5,30,num=6)]\n",
    "\n",
    "#Min number of samples required to split a node\n",
    "\n",
    "min_sample_split = [2,5,10,15,100]\n",
    "\n",
    "#Min number of samples required at each leaf node\n",
    "\n",
    "min_samples_leaf = [1,2,5,10]\n",
    "\n"
   ]
  },
  {
   "cell_type": "code",
   "execution_count": 27,
   "metadata": {},
   "outputs": [],
   "source": [
    "#create the random grid\n",
    "\n",
    "random_grid = { 'n_estimators' : n_estimators,\n",
    "                'learning_rate' :learning_rate,             \n",
    "                'max_features' : max_features,\n",
    "                'max_depth' :max_depth,\n",
    "                'min_samples_split' : min_sample_split,\n",
    "                'min_samples_leaf' : min_samples_leaf\n",
    "}\n"
   ]
  },
  {
   "cell_type": "code",
   "execution_count": 28,
   "metadata": {},
   "outputs": [],
   "source": [
    "gbr_random = RandomizedSearchCV(estimator=gbr, param_distributions=random_grid,scoring='neg_mean_squared_error',n_iter=10,cv=5,verbose=2,random_state=7,n_jobs=1)"
   ]
  },
  {
   "cell_type": "code",
   "execution_count": 29,
   "metadata": {},
   "outputs": [
    {
     "name": "stdout",
     "output_type": "stream",
     "text": [
      "Fitting 5 folds for each of 10 candidates, totalling 50 fits\n",
      "[CV] n_estimators=1000, min_samples_split=100, min_samples_leaf=1, max_features=auto, max_depth=10, learning_rate=0.1 \n"
     ]
    },
    {
     "name": "stderr",
     "output_type": "stream",
     "text": [
      "[Parallel(n_jobs=1)]: Using backend SequentialBackend with 1 concurrent workers.\n"
     ]
    },
    {
     "name": "stdout",
     "output_type": "stream",
     "text": [
      "[CV]  n_estimators=1000, min_samples_split=100, min_samples_leaf=1, max_features=auto, max_depth=10, learning_rate=0.1, total=  11.6s\n",
      "[CV] n_estimators=1000, min_samples_split=100, min_samples_leaf=1, max_features=auto, max_depth=10, learning_rate=0.1 \n"
     ]
    },
    {
     "name": "stderr",
     "output_type": "stream",
     "text": [
      "[Parallel(n_jobs=1)]: Done   1 out of   1 | elapsed:   11.5s remaining:    0.0s\n"
     ]
    },
    {
     "name": "stdout",
     "output_type": "stream",
     "text": [
      "[CV]  n_estimators=1000, min_samples_split=100, min_samples_leaf=1, max_features=auto, max_depth=10, learning_rate=0.1, total=  11.6s\n",
      "[CV] n_estimators=1000, min_samples_split=100, min_samples_leaf=1, max_features=auto, max_depth=10, learning_rate=0.1 \n",
      "[CV]  n_estimators=1000, min_samples_split=100, min_samples_leaf=1, max_features=auto, max_depth=10, learning_rate=0.1, total=  11.8s\n",
      "[CV] n_estimators=1000, min_samples_split=100, min_samples_leaf=1, max_features=auto, max_depth=10, learning_rate=0.1 \n",
      "[CV]  n_estimators=1000, min_samples_split=100, min_samples_leaf=1, max_features=auto, max_depth=10, learning_rate=0.1, total=  11.7s\n",
      "[CV] n_estimators=1000, min_samples_split=100, min_samples_leaf=1, max_features=auto, max_depth=10, learning_rate=0.1 \n",
      "[CV]  n_estimators=1000, min_samples_split=100, min_samples_leaf=1, max_features=auto, max_depth=10, learning_rate=0.1, total=  11.7s\n",
      "[CV] n_estimators=1200, min_samples_split=100, min_samples_leaf=5, max_features=sqrt, max_depth=30, learning_rate=0.05 \n",
      "[CV]  n_estimators=1200, min_samples_split=100, min_samples_leaf=5, max_features=sqrt, max_depth=30, learning_rate=0.05, total=   9.9s\n",
      "[CV] n_estimators=1200, min_samples_split=100, min_samples_leaf=5, max_features=sqrt, max_depth=30, learning_rate=0.05 \n",
      "[CV]  n_estimators=1200, min_samples_split=100, min_samples_leaf=5, max_features=sqrt, max_depth=30, learning_rate=0.05, total=  10.0s\n",
      "[CV] n_estimators=1200, min_samples_split=100, min_samples_leaf=5, max_features=sqrt, max_depth=30, learning_rate=0.05 \n",
      "[CV]  n_estimators=1200, min_samples_split=100, min_samples_leaf=5, max_features=sqrt, max_depth=30, learning_rate=0.05, total=  10.1s\n",
      "[CV] n_estimators=1200, min_samples_split=100, min_samples_leaf=5, max_features=sqrt, max_depth=30, learning_rate=0.05 \n",
      "[CV]  n_estimators=1200, min_samples_split=100, min_samples_leaf=5, max_features=sqrt, max_depth=30, learning_rate=0.05, total=   9.8s\n",
      "[CV] n_estimators=1200, min_samples_split=100, min_samples_leaf=5, max_features=sqrt, max_depth=30, learning_rate=0.05 \n",
      "[CV]  n_estimators=1200, min_samples_split=100, min_samples_leaf=5, max_features=sqrt, max_depth=30, learning_rate=0.05, total=   9.8s\n",
      "[CV] n_estimators=1200, min_samples_split=15, min_samples_leaf=10, max_features=sqrt, max_depth=15, learning_rate=0.05 \n",
      "[CV]  n_estimators=1200, min_samples_split=15, min_samples_leaf=10, max_features=sqrt, max_depth=15, learning_rate=0.05, total=   7.2s\n",
      "[CV] n_estimators=1200, min_samples_split=15, min_samples_leaf=10, max_features=sqrt, max_depth=15, learning_rate=0.05 \n",
      "[CV]  n_estimators=1200, min_samples_split=15, min_samples_leaf=10, max_features=sqrt, max_depth=15, learning_rate=0.05, total=   7.3s\n",
      "[CV] n_estimators=1200, min_samples_split=15, min_samples_leaf=10, max_features=sqrt, max_depth=15, learning_rate=0.05 \n",
      "[CV]  n_estimators=1200, min_samples_split=15, min_samples_leaf=10, max_features=sqrt, max_depth=15, learning_rate=0.05, total=   7.3s\n",
      "[CV] n_estimators=1200, min_samples_split=15, min_samples_leaf=10, max_features=sqrt, max_depth=15, learning_rate=0.05 \n",
      "[CV]  n_estimators=1200, min_samples_split=15, min_samples_leaf=10, max_features=sqrt, max_depth=15, learning_rate=0.05, total=   7.3s\n",
      "[CV] n_estimators=1200, min_samples_split=15, min_samples_leaf=10, max_features=sqrt, max_depth=15, learning_rate=0.05 \n",
      "[CV]  n_estimators=1200, min_samples_split=15, min_samples_leaf=10, max_features=sqrt, max_depth=15, learning_rate=0.05, total=   7.2s\n",
      "[CV] n_estimators=800, min_samples_split=5, min_samples_leaf=10, max_features=sqrt, max_depth=10, learning_rate=0.1 \n",
      "[CV]  n_estimators=800, min_samples_split=5, min_samples_leaf=10, max_features=sqrt, max_depth=10, learning_rate=0.1, total=   3.5s\n",
      "[CV] n_estimators=800, min_samples_split=5, min_samples_leaf=10, max_features=sqrt, max_depth=10, learning_rate=0.1 \n",
      "[CV]  n_estimators=800, min_samples_split=5, min_samples_leaf=10, max_features=sqrt, max_depth=10, learning_rate=0.1, total=   3.5s\n",
      "[CV] n_estimators=800, min_samples_split=5, min_samples_leaf=10, max_features=sqrt, max_depth=10, learning_rate=0.1 \n",
      "[CV]  n_estimators=800, min_samples_split=5, min_samples_leaf=10, max_features=sqrt, max_depth=10, learning_rate=0.1, total=   3.6s\n",
      "[CV] n_estimators=800, min_samples_split=5, min_samples_leaf=10, max_features=sqrt, max_depth=10, learning_rate=0.1 \n",
      "[CV]  n_estimators=800, min_samples_split=5, min_samples_leaf=10, max_features=sqrt, max_depth=10, learning_rate=0.1, total=   3.5s\n",
      "[CV] n_estimators=800, min_samples_split=5, min_samples_leaf=10, max_features=sqrt, max_depth=10, learning_rate=0.1 \n",
      "[CV]  n_estimators=800, min_samples_split=5, min_samples_leaf=10, max_features=sqrt, max_depth=10, learning_rate=0.1, total=   3.5s\n",
      "[CV] n_estimators=500, min_samples_split=100, min_samples_leaf=5, max_features=sqrt, max_depth=15, learning_rate=0.1 \n",
      "[CV]  n_estimators=500, min_samples_split=100, min_samples_leaf=5, max_features=sqrt, max_depth=15, learning_rate=0.1, total=   2.8s\n",
      "[CV] n_estimators=500, min_samples_split=100, min_samples_leaf=5, max_features=sqrt, max_depth=15, learning_rate=0.1 \n",
      "[CV]  n_estimators=500, min_samples_split=100, min_samples_leaf=5, max_features=sqrt, max_depth=15, learning_rate=0.1, total=   3.0s\n",
      "[CV] n_estimators=500, min_samples_split=100, min_samples_leaf=5, max_features=sqrt, max_depth=15, learning_rate=0.1 \n",
      "[CV]  n_estimators=500, min_samples_split=100, min_samples_leaf=5, max_features=sqrt, max_depth=15, learning_rate=0.1, total=   3.0s\n",
      "[CV] n_estimators=500, min_samples_split=100, min_samples_leaf=5, max_features=sqrt, max_depth=15, learning_rate=0.1 \n",
      "[CV]  n_estimators=500, min_samples_split=100, min_samples_leaf=5, max_features=sqrt, max_depth=15, learning_rate=0.1, total=   2.9s\n",
      "[CV] n_estimators=500, min_samples_split=100, min_samples_leaf=5, max_features=sqrt, max_depth=15, learning_rate=0.1 \n",
      "[CV]  n_estimators=500, min_samples_split=100, min_samples_leaf=5, max_features=sqrt, max_depth=15, learning_rate=0.1, total=   2.9s\n",
      "[CV] n_estimators=700, min_samples_split=2, min_samples_leaf=5, max_features=sqrt, max_depth=20, learning_rate=0.01 \n",
      "[CV]  n_estimators=700, min_samples_split=2, min_samples_leaf=5, max_features=sqrt, max_depth=20, learning_rate=0.01, total=   4.5s\n",
      "[CV] n_estimators=700, min_samples_split=2, min_samples_leaf=5, max_features=sqrt, max_depth=20, learning_rate=0.01 \n",
      "[CV]  n_estimators=700, min_samples_split=2, min_samples_leaf=5, max_features=sqrt, max_depth=20, learning_rate=0.01, total=   4.6s\n",
      "[CV] n_estimators=700, min_samples_split=2, min_samples_leaf=5, max_features=sqrt, max_depth=20, learning_rate=0.01 \n",
      "[CV]  n_estimators=700, min_samples_split=2, min_samples_leaf=5, max_features=sqrt, max_depth=20, learning_rate=0.01, total=   4.5s\n",
      "[CV] n_estimators=700, min_samples_split=2, min_samples_leaf=5, max_features=sqrt, max_depth=20, learning_rate=0.01 \n",
      "[CV]  n_estimators=700, min_samples_split=2, min_samples_leaf=5, max_features=sqrt, max_depth=20, learning_rate=0.01, total=   4.5s\n",
      "[CV] n_estimators=700, min_samples_split=2, min_samples_leaf=5, max_features=sqrt, max_depth=20, learning_rate=0.01 \n",
      "[CV]  n_estimators=700, min_samples_split=2, min_samples_leaf=5, max_features=sqrt, max_depth=20, learning_rate=0.01, total=   4.5s\n",
      "[CV] n_estimators=400, min_samples_split=2, min_samples_leaf=10, max_features=auto, max_depth=30, learning_rate=0.1 \n",
      "[CV]  n_estimators=400, min_samples_split=2, min_samples_leaf=10, max_features=auto, max_depth=30, learning_rate=0.1, total=  12.5s\n",
      "[CV] n_estimators=400, min_samples_split=2, min_samples_leaf=10, max_features=auto, max_depth=30, learning_rate=0.1 \n",
      "[CV]  n_estimators=400, min_samples_split=2, min_samples_leaf=10, max_features=auto, max_depth=30, learning_rate=0.1, total=  12.5s\n",
      "[CV] n_estimators=400, min_samples_split=2, min_samples_leaf=10, max_features=auto, max_depth=30, learning_rate=0.1 \n",
      "[CV]  n_estimators=400, min_samples_split=2, min_samples_leaf=10, max_features=auto, max_depth=30, learning_rate=0.1, total=  12.8s\n",
      "[CV] n_estimators=400, min_samples_split=2, min_samples_leaf=10, max_features=auto, max_depth=30, learning_rate=0.1 \n",
      "[CV]  n_estimators=400, min_samples_split=2, min_samples_leaf=10, max_features=auto, max_depth=30, learning_rate=0.1, total=  12.7s\n",
      "[CV] n_estimators=400, min_samples_split=2, min_samples_leaf=10, max_features=auto, max_depth=30, learning_rate=0.1 \n"
     ]
    },
    {
     "name": "stdout",
     "output_type": "stream",
     "text": [
      "[CV]  n_estimators=400, min_samples_split=2, min_samples_leaf=10, max_features=auto, max_depth=30, learning_rate=0.1, total=  12.8s\n",
      "[CV] n_estimators=200, min_samples_split=2, min_samples_leaf=5, max_features=auto, max_depth=20, learning_rate=0.05 \n",
      "[CV]  n_estimators=200, min_samples_split=2, min_samples_leaf=5, max_features=auto, max_depth=20, learning_rate=0.05, total=   3.9s\n",
      "[CV] n_estimators=200, min_samples_split=2, min_samples_leaf=5, max_features=auto, max_depth=20, learning_rate=0.05 \n",
      "[CV]  n_estimators=200, min_samples_split=2, min_samples_leaf=5, max_features=auto, max_depth=20, learning_rate=0.05, total=   4.0s\n",
      "[CV] n_estimators=200, min_samples_split=2, min_samples_leaf=5, max_features=auto, max_depth=20, learning_rate=0.05 \n",
      "[CV]  n_estimators=200, min_samples_split=2, min_samples_leaf=5, max_features=auto, max_depth=20, learning_rate=0.05, total=   3.9s\n",
      "[CV] n_estimators=200, min_samples_split=2, min_samples_leaf=5, max_features=auto, max_depth=20, learning_rate=0.05 \n",
      "[CV]  n_estimators=200, min_samples_split=2, min_samples_leaf=5, max_features=auto, max_depth=20, learning_rate=0.05, total=   3.8s\n",
      "[CV] n_estimators=200, min_samples_split=2, min_samples_leaf=5, max_features=auto, max_depth=20, learning_rate=0.05 \n",
      "[CV]  n_estimators=200, min_samples_split=2, min_samples_leaf=5, max_features=auto, max_depth=20, learning_rate=0.05, total=   4.0s\n",
      "[CV] n_estimators=1200, min_samples_split=100, min_samples_leaf=2, max_features=sqrt, max_depth=5, learning_rate=0.05 \n",
      "[CV]  n_estimators=1200, min_samples_split=100, min_samples_leaf=2, max_features=sqrt, max_depth=5, learning_rate=0.05, total=   2.9s\n",
      "[CV] n_estimators=1200, min_samples_split=100, min_samples_leaf=2, max_features=sqrt, max_depth=5, learning_rate=0.05 \n",
      "[CV]  n_estimators=1200, min_samples_split=100, min_samples_leaf=2, max_features=sqrt, max_depth=5, learning_rate=0.05, total=   3.0s\n",
      "[CV] n_estimators=1200, min_samples_split=100, min_samples_leaf=2, max_features=sqrt, max_depth=5, learning_rate=0.05 \n",
      "[CV]  n_estimators=1200, min_samples_split=100, min_samples_leaf=2, max_features=sqrt, max_depth=5, learning_rate=0.05, total=   3.0s\n",
      "[CV] n_estimators=1200, min_samples_split=100, min_samples_leaf=2, max_features=sqrt, max_depth=5, learning_rate=0.05 \n",
      "[CV]  n_estimators=1200, min_samples_split=100, min_samples_leaf=2, max_features=sqrt, max_depth=5, learning_rate=0.05, total=   3.0s\n",
      "[CV] n_estimators=1200, min_samples_split=100, min_samples_leaf=2, max_features=sqrt, max_depth=5, learning_rate=0.05 \n",
      "[CV]  n_estimators=1200, min_samples_split=100, min_samples_leaf=2, max_features=sqrt, max_depth=5, learning_rate=0.05, total=   3.1s\n",
      "[CV] n_estimators=1100, min_samples_split=100, min_samples_leaf=2, max_features=sqrt, max_depth=5, learning_rate=0.01 \n",
      "[CV]  n_estimators=1100, min_samples_split=100, min_samples_leaf=2, max_features=sqrt, max_depth=5, learning_rate=0.01, total=   2.9s\n",
      "[CV] n_estimators=1100, min_samples_split=100, min_samples_leaf=2, max_features=sqrt, max_depth=5, learning_rate=0.01 \n",
      "[CV]  n_estimators=1100, min_samples_split=100, min_samples_leaf=2, max_features=sqrt, max_depth=5, learning_rate=0.01, total=   2.9s\n",
      "[CV] n_estimators=1100, min_samples_split=100, min_samples_leaf=2, max_features=sqrt, max_depth=5, learning_rate=0.01 \n",
      "[CV]  n_estimators=1100, min_samples_split=100, min_samples_leaf=2, max_features=sqrt, max_depth=5, learning_rate=0.01, total=   2.7s\n",
      "[CV] n_estimators=1100, min_samples_split=100, min_samples_leaf=2, max_features=sqrt, max_depth=5, learning_rate=0.01 \n",
      "[CV]  n_estimators=1100, min_samples_split=100, min_samples_leaf=2, max_features=sqrt, max_depth=5, learning_rate=0.01, total=   2.7s\n",
      "[CV] n_estimators=1100, min_samples_split=100, min_samples_leaf=2, max_features=sqrt, max_depth=5, learning_rate=0.01 \n",
      "[CV]  n_estimators=1100, min_samples_split=100, min_samples_leaf=2, max_features=sqrt, max_depth=5, learning_rate=0.01, total=   2.7s\n"
     ]
    },
    {
     "name": "stderr",
     "output_type": "stream",
     "text": [
      "[Parallel(n_jobs=1)]: Done  50 out of  50 | elapsed:  5.2min finished\n"
     ]
    },
    {
     "data": {
      "text/plain": [
       "RandomizedSearchCV(cv=5, error_score=nan,\n",
       "                   estimator=GradientBoostingRegressor(alpha=0.9, ccp_alpha=0.0,\n",
       "                                                       criterion='friedman_mse',\n",
       "                                                       init=None,\n",
       "                                                       learning_rate=0.1,\n",
       "                                                       loss='ls', max_depth=3,\n",
       "                                                       max_features=None,\n",
       "                                                       max_leaf_nodes=None,\n",
       "                                                       min_impurity_decrease=0.0,\n",
       "                                                       min_impurity_split=None,\n",
       "                                                       min_samples_leaf=1,\n",
       "                                                       min_samples_split=2,\n",
       "                                                       min_weight_fraction_leaf=0.0,\n",
       "                                                       n_estimators=100,\n",
       "                                                       n_...\n",
       "                   param_distributions={'learning_rate': [0.1, 0.05, 0.01],\n",
       "                                        'max_depth': [5, 10, 15, 20, 25, 30],\n",
       "                                        'max_features': ['auto', 'sqrt'],\n",
       "                                        'min_samples_leaf': [1, 2, 5, 10],\n",
       "                                        'min_samples_split': [2, 5, 10, 15,\n",
       "                                                              100],\n",
       "                                        'n_estimators': [100, 200, 300, 400,\n",
       "                                                         500, 600, 700, 800,\n",
       "                                                         900, 1000, 1100,\n",
       "                                                         1200]},\n",
       "                   pre_dispatch='2*n_jobs', random_state=7, refit=True,\n",
       "                   return_train_score=False, scoring='neg_mean_squared_error',\n",
       "                   verbose=2)"
      ]
     },
     "execution_count": 29,
     "metadata": {},
     "output_type": "execute_result"
    }
   ],
   "source": [
    "gbr_random.fit(X_train,y_train)"
   ]
  },
  {
   "cell_type": "code",
   "execution_count": 30,
   "metadata": {},
   "outputs": [],
   "source": [
    "##Hyperparameters for ADA boosting regressor\n",
    "\n",
    "\n",
    "n_estimators= [int(x) for x in np.linspace(start=100,stop=1200,num=12)]\n",
    "\n",
    "#learning_rate\n",
    "learning_rate = [0.1,0.05,0.01]\n",
    "    \n",
    "\n",
    "#loss\n",
    "\n",
    "loss = ['linear', 'square', 'exponential']\n",
    "\n",
    "\n",
    "\n",
    "\n"
   ]
  },
  {
   "cell_type": "code",
   "execution_count": 31,
   "metadata": {},
   "outputs": [],
   "source": [
    "#create the random grid\n",
    "\n",
    "random_grid = { 'n_estimators' : n_estimators,\n",
    "                'learning_rate' :learning_rate,             \n",
    "                'loss':loss\n",
    "}\n"
   ]
  },
  {
   "cell_type": "code",
   "execution_count": 32,
   "metadata": {},
   "outputs": [],
   "source": [
    "ada_random = RandomizedSearchCV(estimator=ada, param_distributions=random_grid,scoring='neg_mean_squared_error',n_iter=10,cv=5,verbose=2,random_state=7,n_jobs=1)"
   ]
  },
  {
   "cell_type": "code",
   "execution_count": 33,
   "metadata": {},
   "outputs": [
    {
     "name": "stdout",
     "output_type": "stream",
     "text": [
      "Fitting 5 folds for each of 10 candidates, totalling 50 fits\n",
      "[CV] n_estimators=400, loss=square, learning_rate=0.05 ...............\n"
     ]
    },
    {
     "name": "stderr",
     "output_type": "stream",
     "text": [
      "[Parallel(n_jobs=1)]: Using backend SequentialBackend with 1 concurrent workers.\n"
     ]
    },
    {
     "name": "stdout",
     "output_type": "stream",
     "text": [
      "[CV]  n_estimators=400, loss=square, learning_rate=0.05, total=   1.9s\n",
      "[CV] n_estimators=400, loss=square, learning_rate=0.05 ...............\n"
     ]
    },
    {
     "name": "stderr",
     "output_type": "stream",
     "text": [
      "[Parallel(n_jobs=1)]: Done   1 out of   1 | elapsed:    1.8s remaining:    0.0s\n"
     ]
    },
    {
     "name": "stdout",
     "output_type": "stream",
     "text": [
      "[CV]  n_estimators=400, loss=square, learning_rate=0.05, total=   1.9s\n",
      "[CV] n_estimators=400, loss=square, learning_rate=0.05 ...............\n",
      "[CV]  n_estimators=400, loss=square, learning_rate=0.05, total=   1.9s\n",
      "[CV] n_estimators=400, loss=square, learning_rate=0.05 ...............\n",
      "[CV]  n_estimators=400, loss=square, learning_rate=0.05, total=   1.8s\n",
      "[CV] n_estimators=400, loss=square, learning_rate=0.05 ...............\n",
      "[CV]  n_estimators=400, loss=square, learning_rate=0.05, total=   1.8s\n",
      "[CV] n_estimators=100, loss=square, learning_rate=0.01 ...............\n",
      "[CV]  n_estimators=100, loss=square, learning_rate=0.01, total=   0.6s\n",
      "[CV] n_estimators=100, loss=square, learning_rate=0.01 ...............\n",
      "[CV]  n_estimators=100, loss=square, learning_rate=0.01, total=   0.6s\n",
      "[CV] n_estimators=100, loss=square, learning_rate=0.01 ...............\n",
      "[CV]  n_estimators=100, loss=square, learning_rate=0.01, total=   0.6s\n",
      "[CV] n_estimators=100, loss=square, learning_rate=0.01 ...............\n",
      "[CV]  n_estimators=100, loss=square, learning_rate=0.01, total=   0.6s\n",
      "[CV] n_estimators=100, loss=square, learning_rate=0.01 ...............\n",
      "[CV]  n_estimators=100, loss=square, learning_rate=0.01, total=   0.6s\n",
      "[CV] n_estimators=600, loss=exponential, learning_rate=0.05 ..........\n",
      "[CV]  n_estimators=600, loss=exponential, learning_rate=0.05, total=   3.0s\n",
      "[CV] n_estimators=600, loss=exponential, learning_rate=0.05 ..........\n",
      "[CV]  n_estimators=600, loss=exponential, learning_rate=0.05, total=   2.8s\n",
      "[CV] n_estimators=600, loss=exponential, learning_rate=0.05 ..........\n",
      "[CV]  n_estimators=600, loss=exponential, learning_rate=0.05, total=   2.9s\n",
      "[CV] n_estimators=600, loss=exponential, learning_rate=0.05 ..........\n",
      "[CV]  n_estimators=600, loss=exponential, learning_rate=0.05, total=   2.9s\n",
      "[CV] n_estimators=600, loss=exponential, learning_rate=0.05 ..........\n",
      "[CV]  n_estimators=600, loss=exponential, learning_rate=0.05, total=   2.9s\n",
      "[CV] n_estimators=1000, loss=square, learning_rate=0.01 ..............\n",
      "[CV]  n_estimators=1000, loss=square, learning_rate=0.01, total=   5.2s\n",
      "[CV] n_estimators=1000, loss=square, learning_rate=0.01 ..............\n",
      "[CV]  n_estimators=1000, loss=square, learning_rate=0.01, total=   5.3s\n",
      "[CV] n_estimators=1000, loss=square, learning_rate=0.01 ..............\n",
      "[CV]  n_estimators=1000, loss=square, learning_rate=0.01, total=   5.2s\n",
      "[CV] n_estimators=1000, loss=square, learning_rate=0.01 ..............\n",
      "[CV]  n_estimators=1000, loss=square, learning_rate=0.01, total=   5.1s\n",
      "[CV] n_estimators=1000, loss=square, learning_rate=0.01 ..............\n",
      "[CV]  n_estimators=1000, loss=square, learning_rate=0.01, total=   5.2s\n",
      "[CV] n_estimators=1100, loss=linear, learning_rate=0.05 ..............\n",
      "[CV]  n_estimators=1100, loss=linear, learning_rate=0.05, total=   1.4s\n",
      "[CV] n_estimators=1100, loss=linear, learning_rate=0.05 ..............\n",
      "[CV]  n_estimators=1100, loss=linear, learning_rate=0.05, total=   1.9s\n",
      "[CV] n_estimators=1100, loss=linear, learning_rate=0.05 ..............\n",
      "[CV]  n_estimators=1100, loss=linear, learning_rate=0.05, total=   1.9s\n",
      "[CV] n_estimators=1100, loss=linear, learning_rate=0.05 ..............\n",
      "[CV]  n_estimators=1100, loss=linear, learning_rate=0.05, total=   2.1s\n",
      "[CV] n_estimators=1100, loss=linear, learning_rate=0.05 ..............\n",
      "[CV]  n_estimators=1100, loss=linear, learning_rate=0.05, total=   2.8s\n",
      "[CV] n_estimators=1000, loss=linear, learning_rate=0.05 ..............\n",
      "[CV]  n_estimators=1000, loss=linear, learning_rate=0.05, total=   1.4s\n",
      "[CV] n_estimators=1000, loss=linear, learning_rate=0.05 ..............\n",
      "[CV]  n_estimators=1000, loss=linear, learning_rate=0.05, total=   2.3s\n",
      "[CV] n_estimators=1000, loss=linear, learning_rate=0.05 ..............\n",
      "[CV]  n_estimators=1000, loss=linear, learning_rate=0.05, total=   2.1s\n",
      "[CV] n_estimators=1000, loss=linear, learning_rate=0.05 ..............\n",
      "[CV]  n_estimators=1000, loss=linear, learning_rate=0.05, total=   2.1s\n",
      "[CV] n_estimators=1000, loss=linear, learning_rate=0.05 ..............\n",
      "[CV]  n_estimators=1000, loss=linear, learning_rate=0.05, total=   3.9s\n",
      "[CV] n_estimators=700, loss=exponential, learning_rate=0.05 ..........\n",
      "[CV]  n_estimators=700, loss=exponential, learning_rate=0.05, total=   3.2s\n",
      "[CV] n_estimators=700, loss=exponential, learning_rate=0.05 ..........\n",
      "[CV]  n_estimators=700, loss=exponential, learning_rate=0.05, total=   3.2s\n",
      "[CV] n_estimators=700, loss=exponential, learning_rate=0.05 ..........\n",
      "[CV]  n_estimators=700, loss=exponential, learning_rate=0.05, total=   3.4s\n",
      "[CV] n_estimators=700, loss=exponential, learning_rate=0.05 ..........\n",
      "[CV]  n_estimators=700, loss=exponential, learning_rate=0.05, total=   3.2s\n",
      "[CV] n_estimators=700, loss=exponential, learning_rate=0.05 ..........\n",
      "[CV]  n_estimators=700, loss=exponential, learning_rate=0.05, total=   3.3s\n",
      "[CV] n_estimators=500, loss=linear, learning_rate=0.01 ...............\n",
      "[CV]  n_estimators=500, loss=linear, learning_rate=0.01, total=   3.1s\n",
      "[CV] n_estimators=500, loss=linear, learning_rate=0.01 ...............\n",
      "[CV]  n_estimators=500, loss=linear, learning_rate=0.01, total=   2.9s\n",
      "[CV] n_estimators=500, loss=linear, learning_rate=0.01 ...............\n",
      "[CV]  n_estimators=500, loss=linear, learning_rate=0.01, total=   3.0s\n",
      "[CV] n_estimators=500, loss=linear, learning_rate=0.01 ...............\n",
      "[CV]  n_estimators=500, loss=linear, learning_rate=0.01, total=   3.0s\n",
      "[CV] n_estimators=500, loss=linear, learning_rate=0.01 ...............\n",
      "[CV]  n_estimators=500, loss=linear, learning_rate=0.01, total=   3.0s\n",
      "[CV] n_estimators=200, loss=square, learning_rate=0.1 ................\n",
      "[CV] . n_estimators=200, loss=square, learning_rate=0.1, total=   1.0s\n",
      "[CV] n_estimators=200, loss=square, learning_rate=0.1 ................\n",
      "[CV] . n_estimators=200, loss=square, learning_rate=0.1, total=   1.0s\n",
      "[CV] n_estimators=200, loss=square, learning_rate=0.1 ................\n",
      "[CV] . n_estimators=200, loss=square, learning_rate=0.1, total=   0.9s\n",
      "[CV] n_estimators=200, loss=square, learning_rate=0.1 ................\n",
      "[CV] . n_estimators=200, loss=square, learning_rate=0.1, total=   0.9s\n",
      "[CV] n_estimators=200, loss=square, learning_rate=0.1 ................\n",
      "[CV] . n_estimators=200, loss=square, learning_rate=0.1, total=   0.9s\n",
      "[CV] n_estimators=500, loss=square, learning_rate=0.05 ...............\n",
      "[CV]  n_estimators=500, loss=square, learning_rate=0.05, total=   2.2s\n",
      "[CV] n_estimators=500, loss=square, learning_rate=0.05 ...............\n",
      "[CV]  n_estimators=500, loss=square, learning_rate=0.05, total=   2.2s\n",
      "[CV] n_estimators=500, loss=square, learning_rate=0.05 ...............\n",
      "[CV]  n_estimators=500, loss=square, learning_rate=0.05, total=   2.3s\n",
      "[CV] n_estimators=500, loss=square, learning_rate=0.05 ...............\n",
      "[CV]  n_estimators=500, loss=square, learning_rate=0.05, total=   2.2s\n",
      "[CV] n_estimators=500, loss=square, learning_rate=0.05 ...............\n",
      "[CV]  n_estimators=500, loss=square, learning_rate=0.05, total=   2.2s\n"
     ]
    },
    {
     "name": "stderr",
     "output_type": "stream",
     "text": [
      "[Parallel(n_jobs=1)]: Done  50 out of  50 | elapsed:  2.0min finished\n"
     ]
    },
    {
     "data": {
      "text/plain": [
       "RandomizedSearchCV(cv=5, error_score=nan,\n",
       "                   estimator=AdaBoostRegressor(base_estimator=None,\n",
       "                                               learning_rate=1.0, loss='linear',\n",
       "                                               n_estimators=50,\n",
       "                                               random_state=None),\n",
       "                   iid='deprecated', n_iter=10, n_jobs=1,\n",
       "                   param_distributions={'learning_rate': [0.1, 0.05, 0.01],\n",
       "                                        'loss': ['linear', 'square',\n",
       "                                                 'exponential'],\n",
       "                                        'n_estimators': [100, 200, 300, 400,\n",
       "                                                         500, 600, 700, 800,\n",
       "                                                         900, 1000, 1100,\n",
       "                                                         1200]},\n",
       "                   pre_dispatch='2*n_jobs', random_state=7, refit=True,\n",
       "                   return_train_score=False, scoring='neg_mean_squared_error',\n",
       "                   verbose=2)"
      ]
     },
     "execution_count": 33,
     "metadata": {},
     "output_type": "execute_result"
    }
   ],
   "source": [
    "ada_random.fit(X_train,y_train)"
   ]
  },
  {
   "cell_type": "code",
   "execution_count": 36,
   "metadata": {},
   "outputs": [],
   "source": [
    "pred1=rf_random.predict(X_test)\n",
    "pred2 = gbr_random.predict(X_test)\n",
    "pred3 = ada_random.predict(X_test)"
   ]
  },
  {
   "cell_type": "code",
   "execution_count": 37,
   "metadata": {},
   "outputs": [],
   "source": [
    "finalpred=(pred1*0.5+pred2*0.3+pred3*0.2)"
   ]
  },
  {
   "cell_type": "code",
   "execution_count": 39,
   "metadata": {},
   "outputs": [
    {
     "data": {
      "text/plain": [
       "<matplotlib.axes._subplots.AxesSubplot at 0x241a0f02c48>"
      ]
     },
     "execution_count": 39,
     "metadata": {},
     "output_type": "execute_result"
    },
    {
     "data": {
      "image/png": "[encoded data removed]",
      "text/plain": [
       "<Figure size 432x288 with 1 Axes>"
      ]
     },
     "metadata": {
      "needs_background": "light"
     },
     "output_type": "display_data"
    }
   ],
   "source": [
    "sns.distplot(y_test-finalpred)"
   ]
  },
  {
   "cell_type": "code",
   "execution_count": 40,
   "metadata": {},
   "outputs": [
    {
     "data": {
      "text/plain": [
       "<matplotlib.collections.PathCollection at 0x241a1034608>"
      ]
     },
     "execution_count": 40,
     "metadata": {},
     "output_type": "execute_result"
    },
    {
     "data": {
      "image/png": "[encoded data removed]",
      "text/plain": [
       "<Figure size 432x288 with 1 Axes>"
      ]
     },
     "metadata": {
      "needs_background": "light"
     },
     "output_type": "display_data"
    }
   ],
   "source": [
    "plt.scatter(y_test,finalpred)"
   ]
  },
  {
   "cell_type": "code",
   "execution_count": 108,
   "metadata": {},
   "outputs": [
    {
     "data": {
      "text/html": [
       "<div>\n",
       "<style scoped>\n",
       "    .dataframe tbody tr th:only-of-type {\n",
       "        vertical-align: middle;\n",
       "    }\n",
       "\n",
       "    .dataframe tbody tr th {\n",
       "        vertical-align: top;\n",
       "    }\n",
       "\n",
       "    .dataframe thead th {\n",
       "        text-align: right;\n",
       "    }\n",
       "</style>\n",
       "<table border=\"1\" class=\"dataframe\">\n",
       "  <thead>\n",
       "    <tr style=\"text-align: right;\">\n",
       "      <th></th>\n",
       "      <th>Item_Id</th>\n",
       "      <th>Date</th>\n",
       "      <th>State_of_Country</th>\n",
       "      <th>Market_Category</th>\n",
       "      <th>Product_Category</th>\n",
       "      <th>Grade</th>\n",
       "      <th>Demand</th>\n",
       "      <th>High_Cap_Price</th>\n",
       "    </tr>\n",
       "  </thead>\n",
       "  <tbody>\n",
       "    <tr>\n",
       "      <th>0</th>\n",
       "      <td>IT_265079</td>\n",
       "      <td>2014-01-19</td>\n",
       "      <td>0</td>\n",
       "      <td>3</td>\n",
       "      <td>0</td>\n",
       "      <td>0</td>\n",
       "      <td>0.1</td>\n",
       "      <td>5303</td>\n",
       "    </tr>\n",
       "    <tr>\n",
       "      <th>1</th>\n",
       "      <td>IT_265087</td>\n",
       "      <td>2014-01-19</td>\n",
       "      <td>0</td>\n",
       "      <td>268</td>\n",
       "      <td>0</td>\n",
       "      <td>2</td>\n",
       "      <td>1.4</td>\n",
       "      <td>10492</td>\n",
       "    </tr>\n",
       "    <tr>\n",
       "      <th>2</th>\n",
       "      <td>IT_265107</td>\n",
       "      <td>2014-01-19</td>\n",
       "      <td>0</td>\n",
       "      <td>320</td>\n",
       "      <td>0</td>\n",
       "      <td>0</td>\n",
       "      <td>13.4</td>\n",
       "      <td>24706</td>\n",
       "    </tr>\n",
       "    <tr>\n",
       "      <th>3</th>\n",
       "      <td>IT_265139</td>\n",
       "      <td>2014-01-19</td>\n",
       "      <td>17</td>\n",
       "      <td>358</td>\n",
       "      <td>0</td>\n",
       "      <td>3</td>\n",
       "      <td>5.5</td>\n",
       "      <td>23464</td>\n",
       "    </tr>\n",
       "    <tr>\n",
       "      <th>4</th>\n",
       "      <td>IT_265142</td>\n",
       "      <td>2014-01-19</td>\n",
       "      <td>18</td>\n",
       "      <td>23</td>\n",
       "      <td>5</td>\n",
       "      <td>2</td>\n",
       "      <td>0.0</td>\n",
       "      <td>6222</td>\n",
       "    </tr>\n",
       "  </tbody>\n",
       "</table>\n",
       "</div>"
      ],
      "text/plain": [
       "     Item_Id        Date  State_of_Country  Market_Category  Product_Category  \\\n",
       "0  IT_265079  2014-01-19                 0                3                 0   \n",
       "1  IT_265087  2014-01-19                 0              268                 0   \n",
       "2  IT_265107  2014-01-19                 0              320                 0   \n",
       "3  IT_265139  2014-01-19                17              358                 0   \n",
       "4  IT_265142  2014-01-19                18               23                 5   \n",
       "\n",
       "   Grade  Demand  High_Cap_Price  \n",
       "0      0     0.1            5303  \n",
       "1      2     1.4           10492  \n",
       "2      0    13.4           24706  \n",
       "3      3     5.5           23464  \n",
       "4      2     0.0            6222  "
      ]
     },
     "execution_count": 108,
     "metadata": {},
     "output_type": "execute_result"
    }
   ],
   "source": [
    "test_data.head()"
   ]
  },
  {
   "cell_type": "code",
   "execution_count": 109,
   "metadata": {},
   "outputs": [],
   "source": [
    "test_data.drop(['Date'],axis = 1, inplace = True)\n"
   ]
  },
  {
   "cell_type": "code",
   "execution_count": 110,
   "metadata": {},
   "outputs": [
    {
     "data": {
      "text/html": [
       "<div>\n",
       "<style scoped>\n",
       "    .dataframe tbody tr th:only-of-type {\n",
       "        vertical-align: middle;\n",
       "    }\n",
       "\n",
       "    .dataframe tbody tr th {\n",
       "        vertical-align: top;\n",
       "    }\n",
       "\n",
       "    .dataframe thead th {\n",
       "        text-align: right;\n",
       "    }\n",
       "</style>\n",
       "<table border=\"1\" class=\"dataframe\">\n",
       "  <thead>\n",
       "    <tr style=\"text-align: right;\">\n",
       "      <th></th>\n",
       "      <th>Item_Id</th>\n",
       "      <th>State_of_Country</th>\n",
       "      <th>Market_Category</th>\n",
       "      <th>Product_Category</th>\n",
       "      <th>Grade</th>\n",
       "      <th>Demand</th>\n",
       "      <th>High_Cap_Price</th>\n",
       "    </tr>\n",
       "  </thead>\n",
       "  <tbody>\n",
       "    <tr>\n",
       "      <th>0</th>\n",
       "      <td>IT_265079</td>\n",
       "      <td>0</td>\n",
       "      <td>3</td>\n",
       "      <td>0</td>\n",
       "      <td>0</td>\n",
       "      <td>0.1</td>\n",
       "      <td>5303</td>\n",
       "    </tr>\n",
       "    <tr>\n",
       "      <th>1</th>\n",
       "      <td>IT_265087</td>\n",
       "      <td>0</td>\n",
       "      <td>268</td>\n",
       "      <td>0</td>\n",
       "      <td>2</td>\n",
       "      <td>1.4</td>\n",
       "      <td>10492</td>\n",
       "    </tr>\n",
       "    <tr>\n",
       "      <th>2</th>\n",
       "      <td>IT_265107</td>\n",
       "      <td>0</td>\n",
       "      <td>320</td>\n",
       "      <td>0</td>\n",
       "      <td>0</td>\n",
       "      <td>13.4</td>\n",
       "      <td>24706</td>\n",
       "    </tr>\n",
       "    <tr>\n",
       "      <th>3</th>\n",
       "      <td>IT_265139</td>\n",
       "      <td>17</td>\n",
       "      <td>358</td>\n",
       "      <td>0</td>\n",
       "      <td>3</td>\n",
       "      <td>5.5</td>\n",
       "      <td>23464</td>\n",
       "    </tr>\n",
       "    <tr>\n",
       "      <th>4</th>\n",
       "      <td>IT_265142</td>\n",
       "      <td>18</td>\n",
       "      <td>23</td>\n",
       "      <td>5</td>\n",
       "      <td>2</td>\n",
       "      <td>0.0</td>\n",
       "      <td>6222</td>\n",
       "    </tr>\n",
       "  </tbody>\n",
       "</table>\n",
       "</div>"
      ],
      "text/plain": [
       "     Item_Id  State_of_Country  Market_Category  Product_Category  Grade  \\\n",
       "0  IT_265079                 0                3                 0      0   \n",
       "1  IT_265087                 0              268                 0      2   \n",
       "2  IT_265107                 0              320                 0      0   \n",
       "3  IT_265139                17              358                 0      3   \n",
       "4  IT_265142                18               23                 5      2   \n",
       "\n",
       "   Demand  High_Cap_Price  \n",
       "0     0.1            5303  \n",
       "1     1.4           10492  \n",
       "2    13.4           24706  \n",
       "3     5.5           23464  \n",
       "4     0.0            6222  "
      ]
     },
     "execution_count": 110,
     "metadata": {},
     "output_type": "execute_result"
    }
   ],
   "source": [
    "test_data.head()"
   ]
  },
  {
   "cell_type": "code",
   "execution_count": 111,
   "metadata": {},
   "outputs": [],
   "source": [
    "item_id = test_data['Item_Id']"
   ]
  },
  {
   "cell_type": "code",
   "execution_count": 112,
   "metadata": {},
   "outputs": [],
   "source": [
    "test_data.drop(['Item_Id'],axis = 1,inplace=True)"
   ]
  },
  {
   "cell_type": "code",
   "execution_count": 113,
   "metadata": {},
   "outputs": [
    {
     "data": {
      "text/html": [
       "<div>\n",
       "<style scoped>\n",
       "    .dataframe tbody tr th:only-of-type {\n",
       "        vertical-align: middle;\n",
       "    }\n",
       "\n",
       "    .dataframe tbody tr th {\n",
       "        vertical-align: top;\n",
       "    }\n",
       "\n",
       "    .dataframe thead th {\n",
       "        text-align: right;\n",
       "    }\n",
       "</style>\n",
       "<table border=\"1\" class=\"dataframe\">\n",
       "  <thead>\n",
       "    <tr style=\"text-align: right;\">\n",
       "      <th></th>\n",
       "      <th>State_of_Country</th>\n",
       "      <th>Market_Category</th>\n",
       "      <th>Product_Category</th>\n",
       "      <th>Grade</th>\n",
       "      <th>Demand</th>\n",
       "      <th>High_Cap_Price</th>\n",
       "    </tr>\n",
       "  </thead>\n",
       "  <tbody>\n",
       "    <tr>\n",
       "      <th>0</th>\n",
       "      <td>0</td>\n",
       "      <td>3</td>\n",
       "      <td>0</td>\n",
       "      <td>0</td>\n",
       "      <td>0.1</td>\n",
       "      <td>5303</td>\n",
       "    </tr>\n",
       "    <tr>\n",
       "      <th>1</th>\n",
       "      <td>0</td>\n",
       "      <td>268</td>\n",
       "      <td>0</td>\n",
       "      <td>2</td>\n",
       "      <td>1.4</td>\n",
       "      <td>10492</td>\n",
       "    </tr>\n",
       "    <tr>\n",
       "      <th>2</th>\n",
       "      <td>0</td>\n",
       "      <td>320</td>\n",
       "      <td>0</td>\n",
       "      <td>0</td>\n",
       "      <td>13.4</td>\n",
       "      <td>24706</td>\n",
       "    </tr>\n",
       "    <tr>\n",
       "      <th>3</th>\n",
       "      <td>17</td>\n",
       "      <td>358</td>\n",
       "      <td>0</td>\n",
       "      <td>3</td>\n",
       "      <td>5.5</td>\n",
       "      <td>23464</td>\n",
       "    </tr>\n",
       "    <tr>\n",
       "      <th>4</th>\n",
       "      <td>18</td>\n",
       "      <td>23</td>\n",
       "      <td>5</td>\n",
       "      <td>2</td>\n",
       "      <td>0.0</td>\n",
       "      <td>6222</td>\n",
       "    </tr>\n",
       "  </tbody>\n",
       "</table>\n",
       "</div>"
      ],
      "text/plain": [
       "   State_of_Country  Market_Category  Product_Category  Grade  Demand  \\\n",
       "0                 0                3                 0      0     0.1   \n",
       "1                 0              268                 0      2     1.4   \n",
       "2                 0              320                 0      0    13.4   \n",
       "3                17              358                 0      3     5.5   \n",
       "4                18               23                 5      2     0.0   \n",
       "\n",
       "   High_Cap_Price  \n",
       "0            5303  \n",
       "1           10492  \n",
       "2           24706  \n",
       "3           23464  \n",
       "4            6222  "
      ]
     },
     "execution_count": 113,
     "metadata": {},
     "output_type": "execute_result"
    }
   ],
   "source": [
    "test_data.head()"
   ]
  },
  {
   "cell_type": "code",
   "execution_count": 114,
   "metadata": {},
   "outputs": [],
   "source": [
    "y_pred1=rf_random.predict(test_data)"
   ]
  },
  {
   "cell_type": "code",
   "execution_count": 115,
   "metadata": {},
   "outputs": [],
   "source": [
    "y_pred2= gbr_random.predict(test_data)\n",
    "y_pred3= ada_random.predict(test_data)\n"
   ]
  },
  {
   "cell_type": "code",
   "execution_count": 118,
   "metadata": {},
   "outputs": [],
   "source": [
    "y_pred=(y_pred1*0.5+y_pred2*0.3+y_pred3*.2)"
   ]
  },
  {
   "cell_type": "code",
   "execution_count": 119,
   "metadata": {},
   "outputs": [
    {
     "data": {
      "text/plain": [
       "array([3329.12571871, 3061.89530244, 4781.79480544, ..., 6480.43184074,\n",
       "       5310.96790881, 6622.16705913])"
      ]
     },
     "execution_count": 119,
     "metadata": {},
     "output_type": "execute_result"
    }
   ],
   "source": [
    "y_pred"
   ]
  },
  {
   "cell_type": "code",
   "execution_count": 120,
   "metadata": {},
   "outputs": [],
   "source": [
    "test_data['Low_Cap_Price'] = y_pred"
   ]
  },
  {
   "cell_type": "code",
   "execution_count": 121,
   "metadata": {},
   "outputs": [],
   "source": [
    "test_data['Item_Id'] = item_id"
   ]
  },
  {
   "cell_type": "code",
   "execution_count": 122,
   "metadata": {},
   "outputs": [],
   "source": [
    "\n",
    "df_new=pd.DataFrame(test_data,columns={'Item_Id','Low_Cap_Price'})"
   ]
  },
  {
   "cell_type": "code",
   "execution_count": 123,
   "metadata": {},
   "outputs": [],
   "source": [
    "df_new = df_new[['Item_Id', 'Low_Cap_Price']]"
   ]
  },
  {
   "cell_type": "code",
   "execution_count": 124,
   "metadata": {},
   "outputs": [
    {
     "data": {
      "text/html": [
       "<div>\n",
       "<style scoped>\n",
       "    .dataframe tbody tr th:only-of-type {\n",
       "        vertical-align: middle;\n",
       "    }\n",
       "\n",
       "    .dataframe tbody tr th {\n",
       "        vertical-align: top;\n",
       "    }\n",
       "\n",
       "    .dataframe thead th {\n",
       "        text-align: right;\n",
       "    }\n",
       "</style>\n",
       "<table border=\"1\" class=\"dataframe\">\n",
       "  <thead>\n",
       "    <tr style=\"text-align: right;\">\n",
       "      <th></th>\n",
       "      <th>Item_Id</th>\n",
       "      <th>Low_Cap_Price</th>\n",
       "    </tr>\n",
       "  </thead>\n",
       "  <tbody>\n",
       "    <tr>\n",
       "      <th>0</th>\n",
       "      <td>IT_265079</td>\n",
       "      <td>3329.125719</td>\n",
       "    </tr>\n",
       "    <tr>\n",
       "      <th>1</th>\n",
       "      <td>IT_265087</td>\n",
       "      <td>3061.895302</td>\n",
       "    </tr>\n",
       "    <tr>\n",
       "      <th>2</th>\n",
       "      <td>IT_265107</td>\n",
       "      <td>4781.794805</td>\n",
       "    </tr>\n",
       "    <tr>\n",
       "      <th>3</th>\n",
       "      <td>IT_265139</td>\n",
       "      <td>7276.175736</td>\n",
       "    </tr>\n",
       "    <tr>\n",
       "      <th>4</th>\n",
       "      <td>IT_265142</td>\n",
       "      <td>2092.677966</td>\n",
       "    </tr>\n",
       "    <tr>\n",
       "      <th>...</th>\n",
       "      <td>...</td>\n",
       "      <td>...</td>\n",
       "    </tr>\n",
       "    <tr>\n",
       "      <th>5758</th>\n",
       "      <td>IT_361691</td>\n",
       "      <td>6308.898355</td>\n",
       "    </tr>\n",
       "    <tr>\n",
       "      <th>5759</th>\n",
       "      <td>IT_361694</td>\n",
       "      <td>5834.035980</td>\n",
       "    </tr>\n",
       "    <tr>\n",
       "      <th>5760</th>\n",
       "      <td>IT_361699</td>\n",
       "      <td>6480.431841</td>\n",
       "    </tr>\n",
       "    <tr>\n",
       "      <th>5761</th>\n",
       "      <td>IT_361719</td>\n",
       "      <td>5310.967909</td>\n",
       "    </tr>\n",
       "    <tr>\n",
       "      <th>5762</th>\n",
       "      <td>IT_361723</td>\n",
       "      <td>6622.167059</td>\n",
       "    </tr>\n",
       "  </tbody>\n",
       "</table>\n",
       "<p>5763 rows × 2 columns</p>\n",
       "</div>"
      ],
      "text/plain": [
       "        Item_Id  Low_Cap_Price\n",
       "0     IT_265079    3329.125719\n",
       "1     IT_265087    3061.895302\n",
       "2     IT_265107    4781.794805\n",
       "3     IT_265139    7276.175736\n",
       "4     IT_265142    2092.677966\n",
       "...         ...            ...\n",
       "5758  IT_361691    6308.898355\n",
       "5759  IT_361694    5834.035980\n",
       "5760  IT_361699    6480.431841\n",
       "5761  IT_361719    5310.967909\n",
       "5762  IT_361723    6622.167059\n",
       "\n",
       "[5763 rows x 2 columns]"
      ]
     },
     "execution_count": 124,
     "metadata": {},
     "output_type": "execute_result"
    }
   ],
   "source": [
    "df_new"
   ]
  },
  {
   "cell_type": "code",
   "execution_count": 125,
   "metadata": {},
   "outputs": [],
   "source": [
    "df_new.to_csv(r\"D:\\sem2\\YOUTUBE\\lowest_price\\submission_new.csv\",index=False)"
   ]
  },
  {
   "cell_type": "code",
   "execution_count": 127,
   "metadata": {},
   "outputs": [],
   "source": [
    "models = []\n",
    "models.append(rf_random)\n",
    "models.append(gbr_random)\n",
    "models.append(ada_random)"
   ]
  },
  {
   "cell_type": "code",
   "execution_count": 129,
   "metadata": {},
   "outputs": [],
   "source": [
    "with open(\"models.pkl\", \"wb\") as f:\n",
    "    for model in models:\n",
    "         pickle.dump(model, f)"
   ]
  },
  {
   "cell_type": "code",
   "execution_count": null,
   "metadata": {},
   "outputs": [],
   "source": []
  }
 ],
 "metadata": {
  "kernelspec": {
   "display_name": "Python 3",
   "language": "python",
   "name": "python3"
  },
  "language_info": {
   "codemirror_mode": {
    "name": "ipython",
    "version": 3
   },
   "file_extension": ".py",
   "mimetype": "text/x-python",
   "name": "python",
   "nbconvert_exporter": "python",
   "pygments_lexer": "ipython3",
   "version": "3.7.6"
  }
 },
 "nbformat": 4,
 "nbformat_minor": 4
}
